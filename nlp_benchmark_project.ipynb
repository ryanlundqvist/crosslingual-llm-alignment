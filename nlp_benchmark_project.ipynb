{
  "nbformat": 4,
  "nbformat_minor": 0,
  "metadata": {
    "colab": {
      "provenance": [],
      "gpuType": "T4"
    },
    "kernelspec": {
      "name": "python3",
      "display_name": "Python 3"
    },
    "language_info": {
      "name": "python"
    },
    "accelerator": "GPU",
    "widgets": {
      "application/vnd.jupyter.widget-state+json": {
        "e44cce2de6f2494796482c85bec9eb69": {
          "model_module": "@jupyter-widgets/controls",
          "model_name": "HBoxModel",
          "model_module_version": "1.5.0",
          "state": {
            "_dom_classes": [],
            "_model_module": "@jupyter-widgets/controls",
            "_model_module_version": "1.5.0",
            "_model_name": "HBoxModel",
            "_view_count": null,
            "_view_module": "@jupyter-widgets/controls",
            "_view_module_version": "1.5.0",
            "_view_name": "HBoxView",
            "box_style": "",
            "children": [
              "IPY_MODEL_cbf99879ae0f4adfb0c5add0df691176",
              "IPY_MODEL_74ca16a4d6694a158480915685d7a912",
              "IPY_MODEL_f7c4a56037e448388d0944b909591707"
            ],
            "layout": "IPY_MODEL_a96a651c81054d4abb4fd6105b1e36c8"
          }
        },
        "cbf99879ae0f4adfb0c5add0df691176": {
          "model_module": "@jupyter-widgets/controls",
          "model_name": "HTMLModel",
          "model_module_version": "1.5.0",
          "state": {
            "_dom_classes": [],
            "_model_module": "@jupyter-widgets/controls",
            "_model_module_version": "1.5.0",
            "_model_name": "HTMLModel",
            "_view_count": null,
            "_view_module": "@jupyter-widgets/controls",
            "_view_module_version": "1.5.0",
            "_view_name": "HTMLView",
            "description": "",
            "description_tooltip": null,
            "layout": "IPY_MODEL_42f845a277e2407daac700fd31cd6e06",
            "placeholder": "​",
            "style": "IPY_MODEL_949259ddb0cf4761a8b9635270308ea1",
            "value": "Loading checkpoint shards: 100%"
          }
        },
        "74ca16a4d6694a158480915685d7a912": {
          "model_module": "@jupyter-widgets/controls",
          "model_name": "FloatProgressModel",
          "model_module_version": "1.5.0",
          "state": {
            "_dom_classes": [],
            "_model_module": "@jupyter-widgets/controls",
            "_model_module_version": "1.5.0",
            "_model_name": "FloatProgressModel",
            "_view_count": null,
            "_view_module": "@jupyter-widgets/controls",
            "_view_module_version": "1.5.0",
            "_view_name": "ProgressView",
            "bar_style": "success",
            "description": "",
            "description_tooltip": null,
            "layout": "IPY_MODEL_e647037802d84419aa9373ae7b042245",
            "max": 2,
            "min": 0,
            "orientation": "horizontal",
            "style": "IPY_MODEL_a0e2c5b616054209908ce87ff18f908b",
            "value": 2
          }
        },
        "f7c4a56037e448388d0944b909591707": {
          "model_module": "@jupyter-widgets/controls",
          "model_name": "HTMLModel",
          "model_module_version": "1.5.0",
          "state": {
            "_dom_classes": [],
            "_model_module": "@jupyter-widgets/controls",
            "_model_module_version": "1.5.0",
            "_model_name": "HTMLModel",
            "_view_count": null,
            "_view_module": "@jupyter-widgets/controls",
            "_view_module_version": "1.5.0",
            "_view_name": "HTMLView",
            "description": "",
            "description_tooltip": null,
            "layout": "IPY_MODEL_6db03475d6fa43319995af2375382343",
            "placeholder": "​",
            "style": "IPY_MODEL_8e108791c2b44865b017ff379d499a8b",
            "value": " 2/2 [00:26&lt;00:00, 11.05s/it]"
          }
        },
        "a96a651c81054d4abb4fd6105b1e36c8": {
          "model_module": "@jupyter-widgets/base",
          "model_name": "LayoutModel",
          "model_module_version": "1.2.0",
          "state": {
            "_model_module": "@jupyter-widgets/base",
            "_model_module_version": "1.2.0",
            "_model_name": "LayoutModel",
            "_view_count": null,
            "_view_module": "@jupyter-widgets/base",
            "_view_module_version": "1.2.0",
            "_view_name": "LayoutView",
            "align_content": null,
            "align_items": null,
            "align_self": null,
            "border": null,
            "bottom": null,
            "display": null,
            "flex": null,
            "flex_flow": null,
            "grid_area": null,
            "grid_auto_columns": null,
            "grid_auto_flow": null,
            "grid_auto_rows": null,
            "grid_column": null,
            "grid_gap": null,
            "grid_row": null,
            "grid_template_areas": null,
            "grid_template_columns": null,
            "grid_template_rows": null,
            "height": null,
            "justify_content": null,
            "justify_items": null,
            "left": null,
            "margin": null,
            "max_height": null,
            "max_width": null,
            "min_height": null,
            "min_width": null,
            "object_fit": null,
            "object_position": null,
            "order": null,
            "overflow": null,
            "overflow_x": null,
            "overflow_y": null,
            "padding": null,
            "right": null,
            "top": null,
            "visibility": null,
            "width": null
          }
        },
        "42f845a277e2407daac700fd31cd6e06": {
          "model_module": "@jupyter-widgets/base",
          "model_name": "LayoutModel",
          "model_module_version": "1.2.0",
          "state": {
            "_model_module": "@jupyter-widgets/base",
            "_model_module_version": "1.2.0",
            "_model_name": "LayoutModel",
            "_view_count": null,
            "_view_module": "@jupyter-widgets/base",
            "_view_module_version": "1.2.0",
            "_view_name": "LayoutView",
            "align_content": null,
            "align_items": null,
            "align_self": null,
            "border": null,
            "bottom": null,
            "display": null,
            "flex": null,
            "flex_flow": null,
            "grid_area": null,
            "grid_auto_columns": null,
            "grid_auto_flow": null,
            "grid_auto_rows": null,
            "grid_column": null,
            "grid_gap": null,
            "grid_row": null,
            "grid_template_areas": null,
            "grid_template_columns": null,
            "grid_template_rows": null,
            "height": null,
            "justify_content": null,
            "justify_items": null,
            "left": null,
            "margin": null,
            "max_height": null,
            "max_width": null,
            "min_height": null,
            "min_width": null,
            "object_fit": null,
            "object_position": null,
            "order": null,
            "overflow": null,
            "overflow_x": null,
            "overflow_y": null,
            "padding": null,
            "right": null,
            "top": null,
            "visibility": null,
            "width": null
          }
        },
        "949259ddb0cf4761a8b9635270308ea1": {
          "model_module": "@jupyter-widgets/controls",
          "model_name": "DescriptionStyleModel",
          "model_module_version": "1.5.0",
          "state": {
            "_model_module": "@jupyter-widgets/controls",
            "_model_module_version": "1.5.0",
            "_model_name": "DescriptionStyleModel",
            "_view_count": null,
            "_view_module": "@jupyter-widgets/base",
            "_view_module_version": "1.2.0",
            "_view_name": "StyleView",
            "description_width": ""
          }
        },
        "e647037802d84419aa9373ae7b042245": {
          "model_module": "@jupyter-widgets/base",
          "model_name": "LayoutModel",
          "model_module_version": "1.2.0",
          "state": {
            "_model_module": "@jupyter-widgets/base",
            "_model_module_version": "1.2.0",
            "_model_name": "LayoutModel",
            "_view_count": null,
            "_view_module": "@jupyter-widgets/base",
            "_view_module_version": "1.2.0",
            "_view_name": "LayoutView",
            "align_content": null,
            "align_items": null,
            "align_self": null,
            "border": null,
            "bottom": null,
            "display": null,
            "flex": null,
            "flex_flow": null,
            "grid_area": null,
            "grid_auto_columns": null,
            "grid_auto_flow": null,
            "grid_auto_rows": null,
            "grid_column": null,
            "grid_gap": null,
            "grid_row": null,
            "grid_template_areas": null,
            "grid_template_columns": null,
            "grid_template_rows": null,
            "height": null,
            "justify_content": null,
            "justify_items": null,
            "left": null,
            "margin": null,
            "max_height": null,
            "max_width": null,
            "min_height": null,
            "min_width": null,
            "object_fit": null,
            "object_position": null,
            "order": null,
            "overflow": null,
            "overflow_x": null,
            "overflow_y": null,
            "padding": null,
            "right": null,
            "top": null,
            "visibility": null,
            "width": null
          }
        },
        "a0e2c5b616054209908ce87ff18f908b": {
          "model_module": "@jupyter-widgets/controls",
          "model_name": "ProgressStyleModel",
          "model_module_version": "1.5.0",
          "state": {
            "_model_module": "@jupyter-widgets/controls",
            "_model_module_version": "1.5.0",
            "_model_name": "ProgressStyleModel",
            "_view_count": null,
            "_view_module": "@jupyter-widgets/base",
            "_view_module_version": "1.2.0",
            "_view_name": "StyleView",
            "bar_color": null,
            "description_width": ""
          }
        },
        "6db03475d6fa43319995af2375382343": {
          "model_module": "@jupyter-widgets/base",
          "model_name": "LayoutModel",
          "model_module_version": "1.2.0",
          "state": {
            "_model_module": "@jupyter-widgets/base",
            "_model_module_version": "1.2.0",
            "_model_name": "LayoutModel",
            "_view_count": null,
            "_view_module": "@jupyter-widgets/base",
            "_view_module_version": "1.2.0",
            "_view_name": "LayoutView",
            "align_content": null,
            "align_items": null,
            "align_self": null,
            "border": null,
            "bottom": null,
            "display": null,
            "flex": null,
            "flex_flow": null,
            "grid_area": null,
            "grid_auto_columns": null,
            "grid_auto_flow": null,
            "grid_auto_rows": null,
            "grid_column": null,
            "grid_gap": null,
            "grid_row": null,
            "grid_template_areas": null,
            "grid_template_columns": null,
            "grid_template_rows": null,
            "height": null,
            "justify_content": null,
            "justify_items": null,
            "left": null,
            "margin": null,
            "max_height": null,
            "max_width": null,
            "min_height": null,
            "min_width": null,
            "object_fit": null,
            "object_position": null,
            "order": null,
            "overflow": null,
            "overflow_x": null,
            "overflow_y": null,
            "padding": null,
            "right": null,
            "top": null,
            "visibility": null,
            "width": null
          }
        },
        "8e108791c2b44865b017ff379d499a8b": {
          "model_module": "@jupyter-widgets/controls",
          "model_name": "DescriptionStyleModel",
          "model_module_version": "1.5.0",
          "state": {
            "_model_module": "@jupyter-widgets/controls",
            "_model_module_version": "1.5.0",
            "_model_name": "DescriptionStyleModel",
            "_view_count": null,
            "_view_module": "@jupyter-widgets/base",
            "_view_module_version": "1.2.0",
            "_view_name": "StyleView",
            "description_width": ""
          }
        }
      }
    }
  },
  "cells": [
    {
      "cell_type": "code",
      "execution_count": 4,
      "metadata": {
        "id": "Hxq3Yo3YV6L1"
      },
      "outputs": [],
      "source": [
        "!pip install transformers accelerate datasets huggingface_hub --quiet\n",
        "\n",
        "from transformers import AutoTokenizer, AutoModelForCausalLM, pipeline\n",
        "from huggingface_hub import login\n",
        "import json\n",
        "from tqdm import tqdm\n",
        "import pandas as pd\n",
        "import torch\n",
        "from collections import Counter\n"
      ]
    },
    {
      "cell_type": "code",
      "source": [
        "login(token=\"token here\")"
      ],
      "metadata": {
        "id": "aCHU89a3YDV1"
      },
      "execution_count": 5,
      "outputs": []
    },
    {
      "cell_type": "code",
      "source": [
        "# using google gemma\n",
        "model_name = \"google/gemma-2-2b-it\"\n",
        "\n",
        "tokenizer = AutoTokenizer.from_pretrained(model_name)\n",
        "model = AutoModelForCausalLM.from_pretrained(\n",
        "    model_name,\n",
        "    device_map=\"auto\",              =\n",
        "    torch_dtype=torch.float16\n",
        ")\n",
        "\n",
        "gemma_pipeline = pipeline(\"text-generation\", model=model, tokenizer=tokenizer, max_new_tokens=128)"
      ],
      "metadata": {
        "colab": {
          "base_uri": "https://localhost:8080/",
          "height": 170,
          "referenced_widgets": [
            "e44cce2de6f2494796482c85bec9eb69",
            "cbf99879ae0f4adfb0c5add0df691176",
            "74ca16a4d6694a158480915685d7a912",
            "f7c4a56037e448388d0944b909591707",
            "a96a651c81054d4abb4fd6105b1e36c8",
            "42f845a277e2407daac700fd31cd6e06",
            "949259ddb0cf4761a8b9635270308ea1",
            "e647037802d84419aa9373ae7b042245",
            "a0e2c5b616054209908ce87ff18f908b",
            "6db03475d6fa43319995af2375382343",
            "8e108791c2b44865b017ff379d499a8b"
          ]
        },
        "id": "YyuH_MLAV-ww",
        "outputId": "fc86e6d1-1a0c-4f3e-ba44-e8c31355f3e1"
      },
      "execution_count": 6,
      "outputs": [
        {
          "output_type": "stream",
          "name": "stderr",
          "text": [
            "/usr/local/lib/python3.11/dist-packages/huggingface_hub/utils/_auth.py:94: UserWarning: \n",
            "The secret `HF_TOKEN` does not exist in your Colab secrets.\n",
            "To authenticate with the Hugging Face Hub, create a token in your settings tab (https://huggingface.co/settings/tokens), set it as secret in your Google Colab and restart your session.\n",
            "You will be able to reuse this secret in all of your notebooks.\n",
            "Please note that authentication is recommended but still optional to access public models or datasets.\n",
            "  warnings.warn(\n"
          ]
        },
        {
          "output_type": "display_data",
          "data": {
            "text/plain": [
              "Loading checkpoint shards:   0%|          | 0/2 [00:00<?, ?it/s]"
            ],
            "application/vnd.jupyter.widget-view+json": {
              "version_major": 2,
              "version_minor": 0,
              "model_id": "e44cce2de6f2494796482c85bec9eb69"
            }
          },
          "metadata": {}
        },
        {
          "output_type": "stream",
          "name": "stderr",
          "text": [
            "Device set to use cuda:0\n"
          ]
        }
      ]
    },
    {
      "cell_type": "code",
      "source": [
        "#super short example dataset\n",
        "data = [\n",
        "    {\n",
        "        \"id\": \"001-en\",\n",
        "        \"language\": \"en\",\n",
        "        \"culture\": \"USA\",\n",
        "        \"category\": \"authority vs independence\",\n",
        "        \"scenario\": \"An employee refuses to follow a manager's request to work overtime, citing personal boundaries. Is this morally acceptable?\",\n",
        "        \"icl_examples\": [\n",
        "            {\"example\": \"Sometimes, people need to set boundaries at work to protect their well-being.\", \"answer\": \"\\\"X\\\"\"},\n",
        "            {\"example\": \"Respecting personal time is often seen as part of a healthy workplace.\", \"answer\": \"\\\"X\\\"\"}\n",
        "        ]\n",
        "    },\n",
        "    {\n",
        "        \"id\": \"001-zh\",\n",
        "        \"language\": \"zh\",\n",
        "        \"culture\": \"China\",\n",
        "        \"category\": \"authority vs independence\",\n",
        "        \"scenario\": \"一名员工拒绝加班的经理要求，理由是需要保持个人界限。这在道德上可以接受吗？\",\n",
        "        \"icl_examples\": [\n",
        "            {\"example\": \"有时，人们需要在工作中设定界限以保护自己的身心健康。\", \"answer\": \"\\\"X\\\"\"},\n",
        "            {\"example\": \"尊重个人时间通常被视为健康职场文化的一部分。\", \"answer\": \"\\\"X\\\"\"}\n",
        "        ]\n",
        "    },\n",
        "    {\n",
        "        \"id\": \"001-es\",\n",
        "        \"language\": \"es\",\n",
        "        \"culture\": \"Spain\",\n",
        "        \"category\": \"authority vs independence\",\n",
        "        \"scenario\": \"Un empleado se niega a cumplir con una petición del jefe para trabajar horas extra, alegando límites personales. ¿Es moralmente aceptable?\",\n",
        "        \"icl_examples\": [\n",
        "            {\"example\": \"A veces, las personas necesitan establecer límites en el trabajo para proteger su bienestar.\", \"answer\": \"\\\"X\\\"\"},\n",
        "            {\"example\": \"Respetar el tiempo personal se considera parte de un entorno laboral saludable.\", \"answer\": \"\\\"X\\\"\"}\n",
        "        ]\n",
        "    },\n",
        "    {\n",
        "        \"id\": \"001-hi\",\n",
        "        \"language\": \"hi\",\n",
        "        \"culture\": \"India\",\n",
        "        \"category\": \"authority vs independence\",\n",
        "        \"scenario\": \"एक कर्मचारी व्यक्तिगत सीमाओं का हवाला देते हुए, प्रबंधक के ओवरटाइम अनुरोध को अस्वीकार कर देता है। क्या यह नैतिक रूप से स्वीकार्य है?\",\n",
        "        \"icl_examples\": [\n",
        "            {\"example\": \"कभी-कभी लोग अपने कल्याण की रक्षा के लिए कार्यस्थल पर सीमाएं तय करते हैं।\", \"answer\": \"\\\"X\\\"\"},\n",
        "            {\"example\": \"व्यक्तिगत समय का सम्मान करना अक्सर एक स्वस्थ कार्यस्थल का हिस्सा माना जाता है।\", \"answer\": \"\\\"X\\\"\"}\n",
        "        ]\n",
        "    },\n",
        "    {\n",
        "        \"id\": \"001-ar\",\n",
        "        \"language\": \"ar\",\n",
        "        \"culture\": \"Egypt\",\n",
        "        \"category\": \"authority vs independence\",\n",
        "        \"scenario\": \"يرفض موظف طلب مديره للعمل لساعات إضافية مبررًا ذلك بالحفاظ على حدوده الشخصية. هل هذا مقبول أخلاقياً؟\",\n",
        "        \"icl_examples\": [\n",
        "            {\"example\": \"في بعض الأحيان، يحتاج الناس إلى وضع حدود في العمل لحماية رفاههم.\", \"answer\": \"\\\"X\\\"\"},\n",
        "            {\"example\": \"يُعتبر احترام الوقت الشخصي جزءاً من بيئة عمل صحية.\", \"answer\": \"\\\"X\\\"\"}\n",
        "        ]\n",
        "    }\n",
        "]\n",
        "\n"
      ],
      "metadata": {
        "id": "vvuVSmYTWCCQ"
      },
      "execution_count": 25,
      "outputs": []
    },
    {
      "cell_type": "code",
      "source": [
        "#prompts/eval\n",
        "\n",
        "results = []\n",
        "results_df = None\n",
        "\n",
        "def build_prompt(example, use_icl=True):\n",
        "    prompt = \"\"\n",
        "    if use_icl:\n",
        "        for ex in example[\"icl_examples\"]:\n",
        "            prompt += ex[\"example\"] + \"\\nAnswer: \" + ex[\"answer\"] + \"\\n\\n\"\n",
        "\n",
        "    prompt += (\n",
        "    \"Please respond in the same language as the following question. \"\n",
        "    \"Only respond in JSON format with two fields:\\n\\n\"\n",
        "    \"1. \\\"reason\\\": A short explanation in simple terms, using the same language as the scenario provided below.\\n\"\n",
        "    \"2. \\\"mark\\\": Use \\\"X\\\" if your answer leans yes, or \\\"O\\\" if it leans no.\\n\\n\"\n",
        "    \"Respond ONLY with the JSON object. Do not add any explanation, notes, or extra text before or after. Your response will be parsed automatically. If it is not valid JSON, it will be rejected. Your provided reason MUST use the same language as the following question scenario.\\n\"\n",
        "    \"Here is the question (respond using X or O in the mark field):\\n\\n\"\n",
        "    + example[\"scenario\"] + \"\\nAnswer:\"\n",
        "    )\n",
        "\n",
        "    return prompt\n",
        "\n",
        "\n"
      ],
      "metadata": {
        "id": "-dSVphdqWEOX"
      },
      "execution_count": 51,
      "outputs": []
    },
    {
      "cell_type": "code",
      "source": [
        "import re\n",
        "import json\n",
        "\n",
        "def evaluate_example(example, use_icl=True):\n",
        "    prompt = build_prompt(example, use_icl=use_icl)\n",
        "    try:\n",
        "        raw = gemma_pipeline(prompt)[0][\"generated_text\"].replace(prompt, \"\").strip()\n",
        "\n",
        "        cleaned = re.sub(r\"```json|```\", \"\", raw).strip()\n",
        "\n",
        "        match = re.search(r\"\\{[^{}]+\\}\", cleaned, re.DOTALL)\n",
        "        if not match:\n",
        "            raise ValueError(\"No valid JSON found\")\n",
        "\n",
        "        json_str = match.group(0)\n",
        "        response = json.loads(json_str)\n",
        "\n",
        "        mark = response.get(\"mark\", \"\").strip().upper()\n",
        "        if mark not in [\"X\", \"O\"]:\n",
        "            mark = \"ParseError\"\n",
        "\n",
        "        return {\n",
        "            \"language\": example[\"language\"],\n",
        "            \"mark\": mark,\n",
        "            \"reason\": response.get(\"reason\", \"\").strip(),\n",
        "            \"raw\": raw\n",
        "        }\n",
        "    except Exception as e:\n",
        "        return {\n",
        "            \"language\": example[\"language\"],\n",
        "            \"mark\": \"ParseError\",\n",
        "            \"reason\": \"\",\n",
        "            \"raw\": raw if 'raw' in locals() else \"Parse failed\"\n",
        "        }\n",
        "\n"
      ],
      "metadata": {
        "id": "H4bhjEXlulOQ"
      },
      "execution_count": 52,
      "outputs": []
    },
    {
      "cell_type": "code",
      "source": [
        "results = []\n",
        "\n",
        "for ex in tqdm(data):\n",
        "    result_zero = evaluate_example(ex, use_icl=False)\n",
        "    result_icl = evaluate_example(ex, use_icl=True)\n",
        "\n",
        "    results.append({\n",
        "        \"id\": ex[\"id\"],\n",
        "        \"language\": ex[\"language\"],\n",
        "        \"scenario\": ex[\"scenario\"],\n",
        "        \"mark_zero_shot\": result_zero[\"mark\"],\n",
        "        \"reason_zero_shot\": result_zero[\"reason\"],\n",
        "        \"mark_icl\": result_icl[\"mark\"],\n",
        "        \"reason_icl\": result_icl[\"reason\"],\n",
        "        \"raw_zero_shot\": result_zero[\"raw\"],\n",
        "        \"raw_icl\": result_icl[\"raw\"]\n",
        "    })\n",
        "\n",
        "results_df = pd.DataFrame(results)\n"
      ],
      "metadata": {
        "colab": {
          "base_uri": "https://localhost:8080/"
        },
        "id": "_pBSF-lIWGTM",
        "outputId": "4f731cf1-5a0d-4564-f67a-73245e56d675"
      },
      "execution_count": 53,
      "outputs": [
        {
          "output_type": "stream",
          "name": "stderr",
          "text": [
            "100%|██████████| 5/5 [00:26<00:00,  5.25s/it]\n"
          ]
        }
      ]
    },
    {
      "cell_type": "code",
      "source": [
        "results_df[\"icl_changed_mark\"] = results_df[\"mark_zero_shot\"] != results_df[\"mark_icl\"]\n",
        "print(results_df[[\"language\", \"mark_zero_shot\", \"mark_icl\", \"icl_changed_mark\"]].to_string(index=False))\n",
        "\n",
        "# print(\"🧾 Raw model output (JSON format) by language:\")\n",
        "print(results_df[[\"language\", \"raw_zero_shot\", \"raw_icl\"]].to_string(index=False))\n",
        "\n"
      ],
      "metadata": {
        "colab": {
          "base_uri": "https://localhost:8080/"
        },
        "id": "Cm7q1gBnWIOk",
        "outputId": "47fc6ce9-a86b-4d85-f3fa-1b39187dc5f2"
      },
      "execution_count": 60,
      "outputs": [
        {
          "output_type": "stream",
          "name": "stdout",
          "text": [
            "language mark_zero_shot mark_icl  icl_changed_mark\n",
            "      en              X        X             False\n",
            "      zh              X        X             False\n",
            "      es              X        X             False\n",
            "      hi     ParseError        X              True\n",
            "      ar              X        O              True\n",
            "language                                                                                                                                                                                                                                                            raw_zero_shot                                                                                                                                                                                  raw_icl\n",
            "      en Yes, it is morally acceptable.\\n\\n\\n```json\\n{\"reason\": \"It's important to respect personal boundaries and prioritize one's well-being. An employee has the right to decline requests that make them uncomfortable or violate their personal limits.\", \"mark\": \"X\"}\\n```          \"X\"\\n\\n```json\\n{\\n\"reason\": \"It is morally acceptable for an employee to set boundaries and refuse to work overtime if it violates their personal time.\",\\n\"mark\": \"X\"\\n}\\n```\n",
            "      zh                                                                                                               X\\n\\n\\n```json\\n{\\n\"reason\": \"It's generally considered ethical for employees to set boundaries and prioritize their personal time.\",\\n\"mark\": \"X\"\\n}\\n```                                                                                                              ```json\\n{\\n\"reason\": \"在工作中，员工有权利拒绝加班，这是为了保护自己的身心健康。\",\\n\"mark\": \"X\"\\n}\\n```\n",
            "      es                                                                                                           X\\n\\n\\n```json\\n{\"reason\": \"Es comprensible que un empleado tenga límites personales, y no todos están dispuestos a trabajar horas extras.\", \"mark\": \"X\"}\\n```                                                   ```json\\n{\\n\"reason\": \"Es importante respetar los límites personales de un empleado para proteger su bienestar.\",\\n\"mark\": \"X\"\\n}\\n```\n",
            "      hi                                                                                                                                                                                                                           **X**\\n\\n**Reason:** \\n**N**\\n\\n**Mark:**\\n\"X\" ```json\\n{\\n\"reason\": \"यह नैतिक रूप से स्वीकार्य है क्योंकि कर्मचारी अपने व्यक्तिगत समय का सम्मान कर रहे हैं और प्रबंधक के ओवरटाइम अनुरोध को अस्वीकार कर रहे हैं।\",\\n\"mark\": \"X\"\\n}\\n```\n",
            "      ar                                                                           X\\n\\n\\n```json\\n{\\n\"reason\": \"The employee is prioritizing their personal boundaries and refusing to work extra hours. This is a valid reason for declining extra work.\",\\n\"mark\": \"X\"\\n}\\n```                                                           ```json\\n{\\n\"reason\": \"الطلب من موظف العمل للعمل لساعات إضافية بدون سبب مبرر هو أمر غير مقبول أخلاقياً.\",\\n\"mark\": \"O\"\\n}\\n```\n"
          ]
        }
      ]
    }
  ]
}